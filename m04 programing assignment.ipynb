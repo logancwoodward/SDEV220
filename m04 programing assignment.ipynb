{
 "cells": [
  {
   "cell_type": "code",
   "execution_count": null,
   "id": "f5952e5e",
   "metadata": {},
   "outputs": [],
   "source": [
    "#Logan Woodward SDEV220 Programming Assignment M04\n",
    "\"\"\"11.1 Create a file called zoo.py. In it, define a function called hours() that prints the string\n",
    " 'Open 9-5 daily'. Then, use the interactive interpreter to import the zoo module and call its hours() function.\"\"\"\n",
    "#zoo.py\n",
    "def hours():\n",
    "    print('Open 9-5 daily')\n",
    "#interactive interpreter\n",
    ">>> import zoo\n",
    ">>> zoo.hours()\n",
    "Open 9-5 daily\n",
    "\n"
   ]
  },
  {
   "cell_type": "code",
   "execution_count": null,
   "id": "fa2e56d7",
   "metadata": {},
   "outputs": [],
   "source": [
    "#11.2 In the interactive interpreter, import the zoo module as menagerie and call its hours() function.\n",
    ">>> import zoo as menagerie\n",
    ">>> menagerie.hours()\n",
    "Open 9-5 daily\n"
   ]
  },
  {
   "cell_type": "code",
   "execution_count": null,
   "id": "61d496c9",
   "metadata": {},
   "outputs": [],
   "source": [
    "\"\"\"16.8 Use the sqlalchemy module to connect to the sqlite3 database books.db that you just made in \n",
    "exercise 16.4. As in 16.6, select and print the title column from the book table in alphabetical order.\"\"\"\n",
    "from sqlalchemy import create_engine, MetaData, Table, select\n",
    "\n",
    "#create an engine to connect to the SQLite database\n",
    "engine = create_engine('sqlite:///books.db')\n",
    "\n",
    "#create a metadata object to hold information about the database\n",
    "metadata = MetaData()\n",
    "\n",
    "#reflect the existing database into the metadata\n",
    "metadata.reflect(bind=engine)\n",
    "\n",
    "#get the books table from the metadata\n",
    "books_table = metadata.tables['books']\n",
    "\n",
    "#create a connection to the database\n",
    "with engine.connect() as conn:\n",
    "    #build a select query to select the title column from the books table\n",
    "    #order the results alphabetically by title\n",
    "    query = select([books_table.c.title]).order_by(books_table.c.title)\n",
    "    \n",
    "    #execute the query and fetch all the rows\n",
    "    result = conn.execute(query).fetchall()\n",
    "    \n",
    "    #print the titles\n",
    "    for row in result:\n",
    "        print(row[0])\n"
   ]
  }
 ],
 "metadata": {
  "language_info": {
   "name": "python"
  }
 },
 "nbformat": 4,
 "nbformat_minor": 5
}
