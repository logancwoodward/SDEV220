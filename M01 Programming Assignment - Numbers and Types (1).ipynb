{
 "cells": [
  {
   "cell_type": "code",
   "execution_count": null,
   "id": "8bcb27cd-837d-405a-95bf-a386d1b9facb",
   "metadata": {},
   "outputs": [],
   "source": [
    "#Logan Woodward\n",
    "#M01 Programming Assignment\n",
    "#3/25/24"
   ]
  },
  {
   "cell_type": "code",
   "execution_count": null,
   "id": "05bd3e64-8731-4328-8857-8164bf1967d6",
   "metadata": {},
   "outputs": [],
   "source": [
    "#3.1"
   ]
  },
  {
   "cell_type": "code",
   "execution_count": 1,
   "id": "e77de217-80f0-4b6b-b7ee-cebe2c378b14",
   "metadata": {},
   "outputs": [
    {
     "data": {
      "text/plain": [
       "3600"
      ]
     },
     "execution_count": 1,
     "metadata": {},
     "output_type": "execute_result"
    }
   ],
   "source": [
    "60 * 60"
   ]
  },
  {
   "cell_type": "code",
   "execution_count": null,
   "id": "d39371e4-5b7b-4842-8374-62d84485753c",
   "metadata": {},
   "outputs": [],
   "source": [
    "#3.2"
   ]
  },
  {
   "cell_type": "code",
   "execution_count": 3,
   "id": "1ce1f526-7a03-484a-b8e0-d16c7ab853ae",
   "metadata": {},
   "outputs": [
    {
     "data": {
      "text/plain": [
       "3600"
      ]
     },
     "execution_count": 3,
     "metadata": {},
     "output_type": "execute_result"
    }
   ],
   "source": [
    "seconds_per_hour = 3600\n",
    "seconds_per_hour"
   ]
  },
  {
   "cell_type": "code",
   "execution_count": null,
   "id": "d35260c5-3ecd-4745-83c8-f1e612434d51",
   "metadata": {},
   "outputs": [],
   "source": [
    "#3.3"
   ]
  },
  {
   "cell_type": "code",
   "execution_count": 7,
   "id": "6fff2d7b-7acf-497c-8af7-95ac4aa37741",
   "metadata": {},
   "outputs": [
    {
     "data": {
      "text/plain": [
       "86400"
      ]
     },
     "execution_count": 7,
     "metadata": {},
     "output_type": "execute_result"
    }
   ],
   "source": [
    "seconds_per_hour * 24"
   ]
  },
  {
   "cell_type": "code",
   "execution_count": 4,
   "id": "3a3af6a7-e612-4973-b82d-b72f998365bf",
   "metadata": {},
   "outputs": [
    {
     "data": {
      "text/plain": [
       "86400"
      ]
     },
     "execution_count": 4,
     "metadata": {},
     "output_type": "execute_result"
    }
   ],
   "source": [
    "seconds_per_day = seconds_per_hour * 24\n",
    "seconds_per_day"
   ]
  },
  {
   "cell_type": "code",
   "execution_count": 5,
   "id": "521571d4-5c60-4daf-a015-fd23d723edb0",
   "metadata": {},
   "outputs": [
    {
     "data": {
      "text/plain": [
       "24.0"
      ]
     },
     "execution_count": 5,
     "metadata": {},
     "output_type": "execute_result"
    }
   ],
   "source": [
    "seconds_per_day / seconds_per_hour"
   ]
  },
  {
   "cell_type": "code",
   "execution_count": 6,
   "id": "e5e709fb-ed36-4251-bc5d-48eb60bacc11",
   "metadata": {},
   "outputs": [
    {
     "data": {
      "text/plain": [
       "24"
      ]
     },
     "execution_count": 6,
     "metadata": {},
     "output_type": "execute_result"
    }
   ],
   "source": [
    "seconds_per_day // seconds_per_hour"
   ]
  },
  {
   "cell_type": "code",
   "execution_count": null,
   "id": "abaced18-e56a-495d-9199-e32d5991b88f",
   "metadata": {},
   "outputs": [],
   "source": [
    "#yes, the number agrees with the previous result."
   ]
  }
 ],
 "metadata": {
  "kernelspec": {
   "display_name": "Python 3 (ipykernel)",
   "language": "python",
   "name": "python3"
  },
  "language_info": {
   "codemirror_mode": {
    "name": "ipython",
    "version": 3
   },
   "file_extension": ".py",
   "mimetype": "text/x-python",
   "name": "python",
   "nbconvert_exporter": "python",
   "pygments_lexer": "ipython3",
   "version": "3.12.0"
  }
 },
 "nbformat": 4,
 "nbformat_minor": 5
}
