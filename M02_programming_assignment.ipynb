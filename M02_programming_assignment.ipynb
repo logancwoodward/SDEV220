{
 "cells": [
  {
   "cell_type": "code",
   "execution_count": null,
   "id": "5b62e23e-7c13-420f-acdf-c91458b1e8c2",
   "metadata": {},
   "outputs": [],
   "source": [
    "#Logan Woodward\n",
    "#M02 Programming Assignment\n",
    "#4/1/24"
   ]
  },
  {
   "cell_type": "code",
   "execution_count": null,
   "id": "7e4ba245-518c-4b90-998a-d44110c31738",
   "metadata": {},
   "outputs": [],
   "source": [
    "#4.1\n",
    "#get random number\n",
    "import random\n",
    "secret = random.randint(1,10)\n",
    "#get user input\n",
    "guess = input.int(f\"Choose a number between 1 and 10\")\n",
    "#evaluate user input\n",
    "if guess < secret:\n",
    "    print(f\"too low\")\n",
    "elif guess > secret:\n",
    "    print(f\"too high\")\n",
    "else guess = secret:\n",
    "    print(f\"just right\")"
   ]
  },
  {
   "cell_type": "code",
   "execution_count": null,
   "id": "69b58fcd-73cc-452a-99cb-dcf4e89bf4da",
   "metadata": {},
   "outputs": [],
   "source": [
    "#4.2\n",
    "#list of possible choices\n",
    "choices = ['cherry', 'pea', 'watermelon', 'pumpkin']\n",
    "#for each possible choice, by way of boolean expression, determine whether object is small or green\n",
    "for choice in choices:\n",
    "    if small and choice in ['cherry', 'pea']:\n",
    "        print(f\"{choice} matches small=True\")\n",
    "    elif not small and choice in ['watermelon', 'pumpkin']:\n",
    "        print(f\"{choice} matches small=False\")\n",
    "    elif green and choice in ['pea', 'watermelon']:\n",
    "        print(f\"{choice} matches green=True\")\n",
    "    elif not green and choice in ['cherry', 'pumpkin']:\n",
    "        print(f\"{choice} matches green=False\")\n",
    "    else:\n",
    "        print(f\"No match found for {choice}\")"
   ]
  },
  {
   "cell_type": "code",
   "execution_count": 3,
   "id": "11d796b2-433e-4437-b5f2-c8dbe41f9260",
   "metadata": {},
   "outputs": [
    {
     "name": "stdout",
     "output_type": "stream",
     "text": [
      "3\n",
      "2\n",
      "1\n",
      "0\n"
     ]
    }
   ],
   "source": [
    "#6.1\n",
    "#list of values\n",
    "my_list = [3, 2, 1, 0,]\n",
    "for value in my_list:\n",
    "    print(value)"
   ]
  },
  {
   "cell_type": "code",
   "execution_count": null,
   "id": "a2d5385b-91f3-450b-b84b-16bb673f52ca",
   "metadata": {},
   "outputs": [],
   "source": [
    "#6.2\n",
    "#variables\n",
    "guess_me = 7\n",
    "number = 1\n",
    "#while loop incrementing number\n",
    "while number <= guess_me:\n",
    "    if number < guess_me:\n",
    "        print(f\"too low\")\n",
    "    elif number == guess_me:\n",
    "        print(f\"found it!\")\n",
    "        break\n",
    "    else:\n",
    "        print(f\"oops\")\n",
    "        break\n",
    "    number += 1"
   ]
  },
  {
   "cell_type": "code",
   "execution_count": null,
   "id": "dddf73eb-1691-44a8-989f-7475de549f9d",
   "metadata": {},
   "outputs": [],
   "source": [
    "#6.3\n",
    "#assign value to guess_me\n",
    "guess_me = 5\n",
    "\n",
    "#use a for loop to iterate over range(10)\n",
    "for number in range(10):\n",
    "    if number < guess_me:\n",
    "        print('too low')\n",
    "    elif number == guess_me:\n",
    "        print('found it!')\n",
    "        break\n",
    "    else:\n",
    "        print('oops')\n",
    "        break"
   ]
  }
 ],
 "metadata": {
  "kernelspec": {
   "display_name": "Python 3 (ipykernel)",
   "language": "python",
   "name": "python3"
  },
  "language_info": {
   "codemirror_mode": {
    "name": "ipython",
    "version": 3
   },
   "file_extension": ".py",
   "mimetype": "text/x-python",
   "name": "python",
   "nbconvert_exporter": "python",
   "pygments_lexer": "ipython3",
   "version": "3.12.0"
  }
 },
 "nbformat": 4,
 "nbformat_minor": 5
}
